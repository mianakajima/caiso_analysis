{
 "cells": [
  {
   "cell_type": "code",
   "execution_count": 1,
   "id": "b8c5bd80-49f0-484c-abf2-57e3c8c1b5ad",
   "metadata": {},
   "outputs": [],
   "source": [
    "import requests\n",
    "import zipfile\n",
    "import xml.etree.ElementTree as ET\n",
    "import pandas as pd"
   ]
  },
  {
   "cell_type": "markdown",
   "id": "c8416fe3-9829-4a13-97a5-f37dd922aa81",
   "metadata": {},
   "source": [
    "## OASIS API Call Test"
   ]
  },
  {
   "cell_type": "markdown",
   "id": "2bf602ba-3e62-46da-9ae8-0101fce80aa5",
   "metadata": {},
   "source": [
    "Docmentation is [here](http://www.caiso.com/Documents/OASIS-InterfaceSpecification_v5_1_1Clean_Fall2017Release.pdf). \n",
    "\n",
    "Note that the examples in the document use 2013 dates, but this may be too far in the past to work. Substituting it with 2021 worked for me. "
   ]
  },
  {
   "cell_type": "code",
   "execution_count": 45,
   "id": "74651194-357a-48eb-8d0d-f7f35b0eb890",
   "metadata": {},
   "outputs": [],
   "source": [
    "#test url \n",
    "url = \"http://oasis.caiso.com/oasisapi/SingleZip?queryname=PRC_LMP&startdatetime=20210901T07:00-0000&enddatetime=20210930T07:00-0000&version=1&market_run_id=DAM&node=DLAP_PGAE-APND\""
   ]
  },
  {
   "cell_type": "code",
   "execution_count": 46,
   "id": "10cfef50-bba6-413f-bb78-6a7613bad9db",
   "metadata": {},
   "outputs": [],
   "source": [
    "test_request = requests.get(url)"
   ]
  },
  {
   "cell_type": "code",
   "execution_count": 47,
   "id": "aad3c839-0e0a-4bc9-b7a2-c3deff9f2bcb",
   "metadata": {},
   "outputs": [
    {
     "data": {
      "text/plain": [
       "'inline; filename=20210901_20210930_PRC_LMP_DAM_20211010_16_02_32_v1.zip;'"
      ]
     },
     "execution_count": 47,
     "metadata": {},
     "output_type": "execute_result"
    }
   ],
   "source": [
    "test_request.headers['Content-Disposition']"
   ]
  },
  {
   "cell_type": "code",
   "execution_count": 62,
   "id": "e6a4afd3-4ab3-473b-baca-df416db94b76",
   "metadata": {},
   "outputs": [
    {
     "data": {
      "text/plain": [
       "{'Date': 'Sun, 10 Oct 2021 23:02:38 GMT', 'Server': 'Apache', 'Content-Disposition': 'inline; filename=20210901_20210930_PRC_LMP_DAM_20211010_16_02_32_v1.zip;', 'Content-Type': 'application/x-zip-compressed', 'Keep-Alive': 'timeout=15, max=100', 'Connection': 'Keep-Alive', 'Transfer-Encoding': 'chunked'}"
      ]
     },
     "execution_count": 62,
     "metadata": {},
     "output_type": "execute_result"
    }
   ],
   "source": [
    "test_request.headers"
   ]
  },
  {
   "cell_type": "code",
   "execution_count": 48,
   "id": "b9923d3f-0273-4641-8ede-a1609fd39c46",
   "metadata": {},
   "outputs": [],
   "source": [
    "#extract zip file\n",
    "with open('trythis.zip', 'wb') as code:\n",
    "    code.write(test_request.content)"
   ]
  },
  {
   "cell_type": "code",
   "execution_count": 49,
   "id": "d5a89ead-3640-4f66-9aaa-e5b482d2995b",
   "metadata": {},
   "outputs": [],
   "source": [
    "with zipfile.ZipFile('trythis.zip', 'r') as zip_ref:\n",
    "    zip_ref.extractall('data')"
   ]
  },
  {
   "cell_type": "markdown",
   "id": "4c20f32a-62c6-4281-8ec0-c2e8bf7b38cf",
   "metadata": {},
   "source": [
    "## Explore XML Data to convert to Pandas Dataframe"
   ]
  },
  {
   "cell_type": "code",
   "execution_count": 50,
   "id": "58a6be21-d0f3-4e52-a168-37d294321b53",
   "metadata": {},
   "outputs": [],
   "source": [
    "xml_data = ET.parse('data/20210901_20210930_PRC_LMP_DAM_20211010_16_02_32_v1.xml')"
   ]
  },
  {
   "cell_type": "code",
   "execution_count": 51,
   "id": "97dea6b8-a464-4388-baa6-cbe00f118cb9",
   "metadata": {},
   "outputs": [],
   "source": [
    "root = xml_data.getroot()"
   ]
  },
  {
   "cell_type": "code",
   "execution_count": 52,
   "id": "c0dfa328-caeb-4142-b5bf-639fac606a16",
   "metadata": {},
   "outputs": [
    {
     "name": "stdout",
     "output_type": "stream",
     "text": [
      "{http://www.caiso.com/soa/OASISReport_v1.xsd}OASISReport\n"
     ]
    }
   ],
   "source": [
    "print(root.tag)"
   ]
  },
  {
   "cell_type": "code",
   "execution_count": 53,
   "id": "0fcec655-ae1c-4945-aab8-dbfa20f5a5dd",
   "metadata": {},
   "outputs": [
    {
     "data": {
      "text/plain": [
       "{}"
      ]
     },
     "execution_count": 53,
     "metadata": {},
     "output_type": "execute_result"
    }
   ],
   "source": [
    "root.attrib"
   ]
  },
  {
   "cell_type": "code",
   "execution_count": 54,
   "id": "6664f530-9c1e-486d-97fe-6d8796ac27a1",
   "metadata": {},
   "outputs": [
    {
     "name": "stdout",
     "output_type": "stream",
     "text": [
      "{http://www.caiso.com/soa/OASISReport_v1.xsd}MessageHeader {}\n",
      "{http://www.caiso.com/soa/OASISReport_v1.xsd}MessagePayload {}\n"
     ]
    }
   ],
   "source": [
    "for child in root:\n",
    "    print(child.tag, child.attrib)"
   ]
  },
  {
   "cell_type": "code",
   "execution_count": 56,
   "id": "e267a7eb-abab-485c-8a59-238beee1bde7",
   "metadata": {},
   "outputs": [
    {
     "data": {
      "text/plain": [
       "['{http://www.caiso.com/soa/OASISReport_v1.xsd}OASISReport',\n",
       " '{http://www.caiso.com/soa/OASISReport_v1.xsd}MessageHeader',\n",
       " '{http://www.caiso.com/soa/OASISReport_v1.xsd}TimeDate',\n",
       " '{http://www.caiso.com/soa/OASISReport_v1.xsd}Source',\n",
       " '{http://www.caiso.com/soa/OASISReport_v1.xsd}Version',\n",
       " '{http://www.caiso.com/soa/OASISReport_v1.xsd}MessagePayload',\n",
       " '{http://www.caiso.com/soa/OASISReport_v1.xsd}RTO',\n",
       " '{http://www.caiso.com/soa/OASISReport_v1.xsd}name',\n",
       " '{http://www.caiso.com/soa/OASISReport_v1.xsd}REPORT_ITEM',\n",
       " '{http://www.caiso.com/soa/OASISReport_v1.xsd}REPORT_HEADER',\n",
       " '{http://www.caiso.com/soa/OASISReport_v1.xsd}SYSTEM',\n",
       " '{http://www.caiso.com/soa/OASISReport_v1.xsd}TZ',\n",
       " '{http://www.caiso.com/soa/OASISReport_v1.xsd}REPORT',\n",
       " '{http://www.caiso.com/soa/OASISReport_v1.xsd}MKT_TYPE',\n",
       " '{http://www.caiso.com/soa/OASISReport_v1.xsd}UOM',\n",
       " '{http://www.caiso.com/soa/OASISReport_v1.xsd}INTERVAL',\n",
       " '{http://www.caiso.com/soa/OASISReport_v1.xsd}SEC_PER_INTERVAL',\n",
       " '{http://www.caiso.com/soa/OASISReport_v1.xsd}REPORT_DATA',\n",
       " '{http://www.caiso.com/soa/OASISReport_v1.xsd}DATA_ITEM',\n",
       " '{http://www.caiso.com/soa/OASISReport_v1.xsd}RESOURCE_NAME',\n",
       " '{http://www.caiso.com/soa/OASISReport_v1.xsd}OPR_DATE',\n",
       " '{http://www.caiso.com/soa/OASISReport_v1.xsd}INTERVAL_NUM',\n",
       " '{http://www.caiso.com/soa/OASISReport_v1.xsd}INTERVAL_START_GMT',\n",
       " '{http://www.caiso.com/soa/OASISReport_v1.xsd}INTERVAL_END_GMT',\n",
       " '{http://www.caiso.com/soa/OASISReport_v1.xsd}VALUE',\n",
       " '{http://www.caiso.com/soa/OASISReport_v1.xsd}REPORT_DATA',\n",
       " '{http://www.caiso.com/soa/OASISReport_v1.xsd}DATA_ITEM',\n",
       " '{http://www.caiso.com/soa/OASISReport_v1.xsd}RESOURCE_NAME',\n",
       " '{http://www.caiso.com/soa/OASISReport_v1.xsd}OPR_DATE',\n",
       " '{http://www.caiso.com/soa/OASISReport_v1.xsd}INTERVAL_NUM']"
      ]
     },
     "execution_count": 56,
     "metadata": {},
     "output_type": "execute_result"
    }
   ],
   "source": [
    "[elem.tag for elem in root.iter()][:30]"
   ]
  },
  {
   "cell_type": "code",
   "execution_count": 57,
   "id": "23bce497-57e3-4a19-9454-a3234cedc161",
   "metadata": {
    "tags": []
   },
   "outputs": [],
   "source": [
    "values = [repdata.text for repdata in root.iter('{http://www.caiso.com/soa/OASISReport_v1.xsd}VALUE')]\n",
    "interval_start = [repdata.text for repdata in root.iter('{http://www.caiso.com/soa/OASISReport_v1.xsd}INTERVAL_START_GMT')]\n",
    "interval_end = [repdata.text for repdata in root.iter('{http://www.caiso.com/soa/OASISReport_v1.xsd}INTERVAL_END_GMT')]\n",
    "interval_num = [repdata.text for repdata in root.iter('{http://www.caiso.com/soa/OASISReport_v1.xsd}INTERVAL_NUM')]\n",
    "opr_date = [repdata.text for repdata in root.iter('{http://www.caiso.com/soa/OASISReport_v1.xsd}OPR_DATE')]\n",
    "resource_name = [repdata.text for repdata in root.iter('{http://www.caiso.com/soa/OASISReport_v1.xsd}RESOURCE_NAME')]"
   ]
  },
  {
   "cell_type": "code",
   "execution_count": 58,
   "id": "7ffd6ee0-5e28-42b2-9e0f-b4c2b1ed3814",
   "metadata": {},
   "outputs": [],
   "source": [
    "test_df = pd.DataFrame({'opr_date': opr_date,\n",
    "                        'interval_start': interval_start,\n",
    "                        'interval_end': interval_end, \n",
    "                        'interval_num': interval_num,\n",
    "                        'resource_name': resource_name,\n",
    "                        'value': values})"
   ]
  },
  {
   "cell_type": "code",
   "execution_count": 59,
   "id": "1fe5bb74-a53a-436b-acec-f9c088a1a1ed",
   "metadata": {},
   "outputs": [
    {
     "data": {
      "text/html": [
       "<div>\n",
       "<style scoped>\n",
       "    .dataframe tbody tr th:only-of-type {\n",
       "        vertical-align: middle;\n",
       "    }\n",
       "\n",
       "    .dataframe tbody tr th {\n",
       "        vertical-align: top;\n",
       "    }\n",
       "\n",
       "    .dataframe thead th {\n",
       "        text-align: right;\n",
       "    }\n",
       "</style>\n",
       "<table border=\"1\" class=\"dataframe\">\n",
       "  <thead>\n",
       "    <tr style=\"text-align: right;\">\n",
       "      <th></th>\n",
       "      <th>opr_date</th>\n",
       "      <th>interval_start</th>\n",
       "      <th>interval_end</th>\n",
       "      <th>interval_num</th>\n",
       "      <th>resource_name</th>\n",
       "      <th>value</th>\n",
       "    </tr>\n",
       "  </thead>\n",
       "  <tbody>\n",
       "    <tr>\n",
       "      <th>0</th>\n",
       "      <td>2021-09-01</td>\n",
       "      <td>2021-09-01T21:00:00-00:00</td>\n",
       "      <td>2021-09-01T22:00:00-00:00</td>\n",
       "      <td>15</td>\n",
       "      <td>DLAP_PGAE-APND</td>\n",
       "      <td>46.66336</td>\n",
       "    </tr>\n",
       "    <tr>\n",
       "      <th>1</th>\n",
       "      <td>2021-09-01</td>\n",
       "      <td>2021-09-01T17:00:00-00:00</td>\n",
       "      <td>2021-09-01T18:00:00-00:00</td>\n",
       "      <td>11</td>\n",
       "      <td>DLAP_PGAE-APND</td>\n",
       "      <td>43.89146</td>\n",
       "    </tr>\n",
       "    <tr>\n",
       "      <th>2</th>\n",
       "      <td>2021-09-01</td>\n",
       "      <td>2021-09-02T02:00:00-00:00</td>\n",
       "      <td>2021-09-02T03:00:00-00:00</td>\n",
       "      <td>20</td>\n",
       "      <td>DLAP_PGAE-APND</td>\n",
       "      <td>83.89462</td>\n",
       "    </tr>\n",
       "    <tr>\n",
       "      <th>3</th>\n",
       "      <td>2021-09-01</td>\n",
       "      <td>2021-09-02T00:00:00-00:00</td>\n",
       "      <td>2021-09-02T01:00:00-00:00</td>\n",
       "      <td>18</td>\n",
       "      <td>DLAP_PGAE-APND</td>\n",
       "      <td>59.40694</td>\n",
       "    </tr>\n",
       "    <tr>\n",
       "      <th>4</th>\n",
       "      <td>2021-09-01</td>\n",
       "      <td>2021-09-01T16:00:00-00:00</td>\n",
       "      <td>2021-09-01T17:00:00-00:00</td>\n",
       "      <td>10</td>\n",
       "      <td>DLAP_PGAE-APND</td>\n",
       "      <td>46.01979</td>\n",
       "    </tr>\n",
       "  </tbody>\n",
       "</table>\n",
       "</div>"
      ],
      "text/plain": [
       "     opr_date             interval_start               interval_end  \\\n",
       "0  2021-09-01  2021-09-01T21:00:00-00:00  2021-09-01T22:00:00-00:00   \n",
       "1  2021-09-01  2021-09-01T17:00:00-00:00  2021-09-01T18:00:00-00:00   \n",
       "2  2021-09-01  2021-09-02T02:00:00-00:00  2021-09-02T03:00:00-00:00   \n",
       "3  2021-09-01  2021-09-02T00:00:00-00:00  2021-09-02T01:00:00-00:00   \n",
       "4  2021-09-01  2021-09-01T16:00:00-00:00  2021-09-01T17:00:00-00:00   \n",
       "\n",
       "  interval_num   resource_name     value  \n",
       "0           15  DLAP_PGAE-APND  46.66336  \n",
       "1           11  DLAP_PGAE-APND  43.89146  \n",
       "2           20  DLAP_PGAE-APND  83.89462  \n",
       "3           18  DLAP_PGAE-APND  59.40694  \n",
       "4           10  DLAP_PGAE-APND  46.01979  "
      ]
     },
     "execution_count": 59,
     "metadata": {},
     "output_type": "execute_result"
    }
   ],
   "source": [
    "test_df.head()"
   ]
  },
  {
   "cell_type": "code",
   "execution_count": 61,
   "id": "a62e9c55-b964-42ec-9d0a-2ef17f3d765f",
   "metadata": {},
   "outputs": [
    {
     "data": {
      "text/html": [
       "<div>\n",
       "<style scoped>\n",
       "    .dataframe tbody tr th:only-of-type {\n",
       "        vertical-align: middle;\n",
       "    }\n",
       "\n",
       "    .dataframe tbody tr th {\n",
       "        vertical-align: top;\n",
       "    }\n",
       "\n",
       "    .dataframe thead th {\n",
       "        text-align: right;\n",
       "    }\n",
       "</style>\n",
       "<table border=\"1\" class=\"dataframe\">\n",
       "  <thead>\n",
       "    <tr style=\"text-align: right;\">\n",
       "      <th></th>\n",
       "      <th>opr_date</th>\n",
       "      <th>interval_start</th>\n",
       "      <th>interval_end</th>\n",
       "      <th>interval_num</th>\n",
       "      <th>resource_name</th>\n",
       "      <th>value</th>\n",
       "    </tr>\n",
       "  </thead>\n",
       "  <tbody>\n",
       "    <tr>\n",
       "      <th>3475</th>\n",
       "      <td>2021-09-29</td>\n",
       "      <td>2021-09-29T19:00:00-00:00</td>\n",
       "      <td>2021-09-29T20:00:00-00:00</td>\n",
       "      <td>13</td>\n",
       "      <td>DLAP_PGAE-APND</td>\n",
       "      <td>0</td>\n",
       "    </tr>\n",
       "    <tr>\n",
       "      <th>3476</th>\n",
       "      <td>2021-09-29</td>\n",
       "      <td>2021-09-29T21:00:00-00:00</td>\n",
       "      <td>2021-09-29T22:00:00-00:00</td>\n",
       "      <td>15</td>\n",
       "      <td>DLAP_PGAE-APND</td>\n",
       "      <td>0</td>\n",
       "    </tr>\n",
       "    <tr>\n",
       "      <th>3477</th>\n",
       "      <td>2021-09-29</td>\n",
       "      <td>2021-09-30T04:00:00-00:00</td>\n",
       "      <td>2021-09-30T05:00:00-00:00</td>\n",
       "      <td>22</td>\n",
       "      <td>DLAP_PGAE-APND</td>\n",
       "      <td>0</td>\n",
       "    </tr>\n",
       "    <tr>\n",
       "      <th>3478</th>\n",
       "      <td>2021-09-29</td>\n",
       "      <td>2021-09-29T08:00:00-00:00</td>\n",
       "      <td>2021-09-29T09:00:00-00:00</td>\n",
       "      <td>2</td>\n",
       "      <td>DLAP_PGAE-APND</td>\n",
       "      <td>0</td>\n",
       "    </tr>\n",
       "    <tr>\n",
       "      <th>3479</th>\n",
       "      <td>2021-09-29</td>\n",
       "      <td>2021-09-29T12:00:00-00:00</td>\n",
       "      <td>2021-09-29T13:00:00-00:00</td>\n",
       "      <td>6</td>\n",
       "      <td>DLAP_PGAE-APND</td>\n",
       "      <td>0</td>\n",
       "    </tr>\n",
       "  </tbody>\n",
       "</table>\n",
       "</div>"
      ],
      "text/plain": [
       "        opr_date             interval_start               interval_end  \\\n",
       "3475  2021-09-29  2021-09-29T19:00:00-00:00  2021-09-29T20:00:00-00:00   \n",
       "3476  2021-09-29  2021-09-29T21:00:00-00:00  2021-09-29T22:00:00-00:00   \n",
       "3477  2021-09-29  2021-09-30T04:00:00-00:00  2021-09-30T05:00:00-00:00   \n",
       "3478  2021-09-29  2021-09-29T08:00:00-00:00  2021-09-29T09:00:00-00:00   \n",
       "3479  2021-09-29  2021-09-29T12:00:00-00:00  2021-09-29T13:00:00-00:00   \n",
       "\n",
       "     interval_num   resource_name value  \n",
       "3475           13  DLAP_PGAE-APND     0  \n",
       "3476           15  DLAP_PGAE-APND     0  \n",
       "3477           22  DLAP_PGAE-APND     0  \n",
       "3478            2  DLAP_PGAE-APND     0  \n",
       "3479            6  DLAP_PGAE-APND     0  "
      ]
     },
     "execution_count": 61,
     "metadata": {},
     "output_type": "execute_result"
    }
   ],
   "source": [
    "test_df.tail()"
   ]
  },
  {
   "cell_type": "code",
   "execution_count": 60,
   "id": "a2954c64-f56f-4055-a20c-7bab11bc6013",
   "metadata": {},
   "outputs": [
    {
     "data": {
      "text/plain": [
       "(3480, 6)"
      ]
     },
     "execution_count": 60,
     "metadata": {},
     "output_type": "execute_result"
    }
   ],
   "source": [
    "test_df.shape"
   ]
  },
  {
   "cell_type": "markdown",
   "id": "aa861928-f256-4eb2-adcf-01621f586f39",
   "metadata": {},
   "source": [
    "## Testing Helper Functions"
   ]
  },
  {
   "cell_type": "code",
   "execution_count": 2,
   "id": "e74193fa-2f27-43e0-b0af-bf9dd67ddd6f",
   "metadata": {},
   "outputs": [],
   "source": [
    "import src.oasis_api as oa"
   ]
  },
  {
   "cell_type": "code",
   "execution_count": 3,
   "id": "ec05ec26-e32c-4145-bbac-7667587a8dee",
   "metadata": {},
   "outputs": [
    {
     "data": {
      "text/plain": [
       "6"
      ]
     },
     "execution_count": 3,
     "metadata": {},
     "output_type": "execute_result"
    }
   ],
   "source": [
    "oa.test_func(2)"
   ]
  },
  {
   "cell_type": "code",
   "execution_count": 4,
   "id": "74a705f7-76a0-4ea1-9c68-adcc7ba10a03",
   "metadata": {},
   "outputs": [],
   "source": [
    "test_pge = oa.get_LMP('20211001', '20211010')"
   ]
  },
  {
   "cell_type": "code",
   "execution_count": 5,
   "id": "19ad757d-bb89-48d8-99fd-67d899f04018",
   "metadata": {},
   "outputs": [
    {
     "data": {
      "text/html": [
       "<div>\n",
       "<style scoped>\n",
       "    .dataframe tbody tr th:only-of-type {\n",
       "        vertical-align: middle;\n",
       "    }\n",
       "\n",
       "    .dataframe tbody tr th {\n",
       "        vertical-align: top;\n",
       "    }\n",
       "\n",
       "    .dataframe thead th {\n",
       "        text-align: right;\n",
       "    }\n",
       "</style>\n",
       "<table border=\"1\" class=\"dataframe\">\n",
       "  <thead>\n",
       "    <tr style=\"text-align: right;\">\n",
       "      <th></th>\n",
       "      <th>opr_date</th>\n",
       "      <th>interval_start</th>\n",
       "      <th>interval_end</th>\n",
       "      <th>interval_num</th>\n",
       "      <th>resource_name</th>\n",
       "      <th>value</th>\n",
       "    </tr>\n",
       "  </thead>\n",
       "  <tbody>\n",
       "    <tr>\n",
       "      <th>0</th>\n",
       "      <td>2021-10-01</td>\n",
       "      <td>2021-10-01 20:00:00+00:00</td>\n",
       "      <td>2021-10-01 21:00:00+00:00</td>\n",
       "      <td>14</td>\n",
       "      <td>DLAP_PGAE-APND</td>\n",
       "      <td>57.76960</td>\n",
       "    </tr>\n",
       "    <tr>\n",
       "      <th>1</th>\n",
       "      <td>2021-10-01</td>\n",
       "      <td>2021-10-01 14:00:00+00:00</td>\n",
       "      <td>2021-10-01 15:00:00+00:00</td>\n",
       "      <td>8</td>\n",
       "      <td>DLAP_PGAE-APND</td>\n",
       "      <td>67.80328</td>\n",
       "    </tr>\n",
       "    <tr>\n",
       "      <th>2</th>\n",
       "      <td>2021-10-01</td>\n",
       "      <td>2021-10-01 15:00:00+00:00</td>\n",
       "      <td>2021-10-01 16:00:00+00:00</td>\n",
       "      <td>9</td>\n",
       "      <td>DLAP_PGAE-APND</td>\n",
       "      <td>57.92543</td>\n",
       "    </tr>\n",
       "    <tr>\n",
       "      <th>3</th>\n",
       "      <td>2021-10-01</td>\n",
       "      <td>2021-10-02 05:00:00+00:00</td>\n",
       "      <td>2021-10-02 06:00:00+00:00</td>\n",
       "      <td>23</td>\n",
       "      <td>DLAP_PGAE-APND</td>\n",
       "      <td>69.23884</td>\n",
       "    </tr>\n",
       "    <tr>\n",
       "      <th>4</th>\n",
       "      <td>2021-10-01</td>\n",
       "      <td>2021-10-01 12:00:00+00:00</td>\n",
       "      <td>2021-10-01 13:00:00+00:00</td>\n",
       "      <td>6</td>\n",
       "      <td>DLAP_PGAE-APND</td>\n",
       "      <td>62.04607</td>\n",
       "    </tr>\n",
       "  </tbody>\n",
       "</table>\n",
       "</div>"
      ],
      "text/plain": [
       "    opr_date            interval_start              interval_end  \\\n",
       "0 2021-10-01 2021-10-01 20:00:00+00:00 2021-10-01 21:00:00+00:00   \n",
       "1 2021-10-01 2021-10-01 14:00:00+00:00 2021-10-01 15:00:00+00:00   \n",
       "2 2021-10-01 2021-10-01 15:00:00+00:00 2021-10-01 16:00:00+00:00   \n",
       "3 2021-10-01 2021-10-02 05:00:00+00:00 2021-10-02 06:00:00+00:00   \n",
       "4 2021-10-01 2021-10-01 12:00:00+00:00 2021-10-01 13:00:00+00:00   \n",
       "\n",
       "   interval_num   resource_name     value  \n",
       "0            14  DLAP_PGAE-APND  57.76960  \n",
       "1             8  DLAP_PGAE-APND  67.80328  \n",
       "2             9  DLAP_PGAE-APND  57.92543  \n",
       "3            23  DLAP_PGAE-APND  69.23884  \n",
       "4             6  DLAP_PGAE-APND  62.04607  "
      ]
     },
     "execution_count": 5,
     "metadata": {},
     "output_type": "execute_result"
    }
   ],
   "source": [
    "test_pge.head()"
   ]
  },
  {
   "cell_type": "code",
   "execution_count": 6,
   "id": "3a0f7a17-8060-4f37-a43e-7ae5cca51b2f",
   "metadata": {},
   "outputs": [
    {
     "data": {
      "text/plain": [
       "opr_date               datetime64[ns]\n",
       "interval_start    datetime64[ns, UTC]\n",
       "interval_end      datetime64[ns, UTC]\n",
       "interval_num                    int64\n",
       "resource_name                  object\n",
       "value                         float64\n",
       "dtype: object"
      ]
     },
     "execution_count": 6,
     "metadata": {},
     "output_type": "execute_result"
    }
   ],
   "source": [
    "test_pge.dtypes"
   ]
  },
  {
   "cell_type": "markdown",
   "id": "be85ae60-7b39-4707-aafe-5f40b31bfcc4",
   "metadata": {},
   "source": [
    "## Try importing to MySQL Database\n",
    "\n",
    "- Reference Resource: http://andrewtrick.com/auto_etl_pipeline.html"
   ]
  },
  {
   "cell_type": "code",
   "execution_count": 8,
   "id": "00b363b0-1405-42d5-9851-a0fe48351780",
   "metadata": {},
   "outputs": [],
   "source": [
    "import mysql.connector"
   ]
  },
  {
   "cell_type": "code",
   "execution_count": 10,
   "id": "c33a88b5-d6d5-458d-8d17-9495fdd157d4",
   "metadata": {},
   "outputs": [],
   "source": [
    "#connect to database\n",
    "cnx = mysql.connector.connect(user='mia', password = 'amount-petunia-mainsail-HAYRICK',\n",
    "                      host = 'MacBook-Pro-2.local',\n",
    "                      database =  'caiso_data',\n",
    "                      auth_plugin = 'mysql_native_password')\n",
    "\n",
    "cursor = cnx.cursor()\n"
   ]
  },
  {
   "cell_type": "code",
   "execution_count": 23,
   "id": "e0e0865d-b0d6-4401-a67c-031fdfe49708",
   "metadata": {},
   "outputs": [
    {
     "name": "stdout",
     "output_type": "stream",
     "text": [
      "[[Timestamp('2021-10-01 20:00:00+0000', tz='UTC'), Timestamp('2021-10-01 21:00:00+0000', tz='UTC'), 14, 'DLAP_PGAE-APND', 57.7696], [Timestamp('2021-10-01 14:00:00+0000', tz='UTC'), Timestamp('2021-10-01 15:00:00+0000', tz='UTC'), 8, 'DLAP_PGAE-APND', 67.80328], [Timestamp('2021-10-01 15:00:00+0000', tz='UTC'), Timestamp('2021-10-01 16:00:00+0000', tz='UTC'), 9, 'DLAP_PGAE-APND', 57.92543], [Timestamp('2021-10-02 05:00:00+0000', tz='UTC'), Timestamp('2021-10-02 06:00:00+0000', tz='UTC'), 23, 'DLAP_PGAE-APND', 69.23884], [Timestamp('2021-10-01 12:00:00+0000', tz='UTC'), Timestamp('2021-10-01 13:00:00+0000', tz='UTC'), 6, 'DLAP_PGAE-APND', 62.04607]]\n"
     ]
    }
   ],
   "source": [
    "add_query = (\"INSERT INTO lmp\"\n",
    "             \"(interval_start, interval_end, interval_num, resource_name, value)\"\n",
    "             \"VALUES (%s, %s, %s, %s, %s)\")\n",
    "\n",
    "data = test_pge[['interval_start', 'interval_end', 'interval_num', \n",
    "                'resource_name', 'value']].values.tolist()\n",
    "\n",
    "test_data = data[:5]\n",
    "\n",
    "print(test_data)"
   ]
  },
  {
   "cell_type": "code",
   "execution_count": 24,
   "id": "cc20fb9e-a0e8-4d1a-98c2-59619c13611a",
   "metadata": {},
   "outputs": [],
   "source": [
    "cursor.executemany(add_query, test_data[:2])"
   ]
  },
  {
   "cell_type": "code",
   "execution_count": 25,
   "id": "cd84c3f4-8455-471e-b65b-eae843804ca0",
   "metadata": {},
   "outputs": [],
   "source": [
    "cnx.commit()\n"
   ]
  },
  {
   "cell_type": "code",
   "execution_count": 26,
   "id": "eed74ab2-88fa-46f8-b29b-232860a0b26c",
   "metadata": {},
   "outputs": [
    {
     "data": {
      "text/plain": [
       "(1080, 6)"
      ]
     },
     "execution_count": 26,
     "metadata": {},
     "output_type": "execute_result"
    }
   ],
   "source": [
    "test_pge.shape"
   ]
  },
  {
   "cell_type": "code",
   "execution_count": 28,
   "id": "3a752c44-9c1e-4845-9c72-72cb560aaf0d",
   "metadata": {},
   "outputs": [
    {
     "name": "stdout",
     "output_type": "stream",
     "text": [
      "0\n"
     ]
    }
   ],
   "source": [
    "for i in range(0, 10, 100): \n",
    "    print(i)"
   ]
  },
  {
   "cell_type": "markdown",
   "id": "fa9653c8-08d3-40d4-8582-d313b202abf8",
   "metadata": {},
   "source": [
    "### Try helper function to import into MySQL Database"
   ]
  },
  {
   "cell_type": "code",
   "execution_count": 11,
   "id": "de483ef3-2648-4001-995d-357feddb2003",
   "metadata": {},
   "outputs": [
    {
     "name": "stdout",
     "output_type": "stream",
     "text": [
      "Loading into SQL 1000 rows at a time... \n",
      "0/1080\n",
      "1000/1080\n"
     ]
    }
   ],
   "source": [
    "oa.import_to_mysql(test_pge, 'mia', password = 'amount-petunia-mainsail-HAYRICK',\n",
    "                      host = 'MacBook-Pro-2.local',\n",
    "                      database =  'caiso_data')"
   ]
  },
  {
   "cell_type": "markdown",
   "id": "d4cee617-30e4-4ae6-9920-2a06fb1d1997",
   "metadata": {},
   "source": [
    "- Note: I had to update user priveleges to unlimited queries, updates and connections by putting in 0's to each entry. "
   ]
  }
 ],
 "metadata": {
  "kernelspec": {
   "display_name": "test-kernel",
   "language": "python",
   "name": "test-kernel"
  },
  "language_info": {
   "codemirror_mode": {
    "name": "ipython",
    "version": 3
   },
   "file_extension": ".py",
   "mimetype": "text/x-python",
   "name": "python",
   "nbconvert_exporter": "python",
   "pygments_lexer": "ipython3",
   "version": "3.9.1"
  }
 },
 "nbformat": 4,
 "nbformat_minor": 5
}
